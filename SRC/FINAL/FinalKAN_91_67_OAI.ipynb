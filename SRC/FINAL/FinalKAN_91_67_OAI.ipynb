{
  "cells": [
    {
      "cell_type": "markdown",
      "source": [
        "## Unzip Dataset"
      ],
      "metadata": {
        "id": "jrO72EoslO4x"
      }
    },
    {
      "cell_type": "code",
      "execution_count": null,
      "metadata": {
        "id": "Y2F5Xsihh93d"
      },
      "outputs": [],
      "source": [
        "!unzip /content/train_all.zip -d /content/dataset/"
      ]
    },
    {
      "cell_type": "code",
      "source": [
        "!unzip /content/test_all.zip -d /content/final_test/"
      ],
      "metadata": {
        "id": "TbyJakWJZjMR"
      },
      "execution_count": null,
      "outputs": []
    },
    {
      "cell_type": "code",
      "source": [
        "!unzip /content/ck-aio-hutech.zip -d /content/final_test1/"
      ],
      "metadata": {
        "id": "BAULCh7oGrVr"
      },
      "execution_count": null,
      "outputs": []
    },
    {
      "cell_type": "markdown",
      "source": [
        "## Setup train test data"
      ],
      "metadata": {
        "id": "JHtc0gdllWIa"
      }
    },
    {
      "cell_type": "code",
      "source": [
        "from google.colab import drive\n",
        "drive.mount('/content/drive')"
      ],
      "metadata": {
        "colab": {
          "base_uri": "https://localhost:8080/"
        },
        "id": "J6T-ChxeEsef",
        "outputId": "19d60b28-ee04-4b05-cfd5-6a0881c619ff"
      },
      "execution_count": null,
      "outputs": [
        {
          "output_type": "stream",
          "name": "stdout",
          "text": [
            "Mounted at /content/drive\n"
          ]
        }
      ]
    },
    {
      "cell_type": "code",
      "execution_count": null,
      "metadata": {
        "id": "EvtRqkJsiHPc"
      },
      "outputs": [],
      "source": [
        "import os\n",
        "import sys\n",
        "import json\n",
        "\n",
        "import torch\n",
        "import torch.nn as nn\n",
        "from torchvision import transforms, datasets\n",
        "from torch.utils.data import DataLoader\n",
        "from torch.utils.data import Dataset\n",
        "from PIL import Image\n",
        "import random\n",
        "import torch.optim as optim\n",
        "from tqdm import tqdm\n",
        "import numpy as np\n",
        "# from MedMamba import VSSM as medmamba # import model"
      ]
    },
    {
      "cell_type": "code",
      "source": [
        "SEED = 25\n",
        "random.seed(SEED)\n",
        "np.random.seed(SEED)\n",
        "torch.manual_seed(SEED)\n",
        "torch.cuda.manual_seed_all(SEED)"
      ],
      "metadata": {
        "id": "tT6RYajzLUhy"
      },
      "execution_count": null,
      "outputs": []
    },
    {
      "cell_type": "code",
      "execution_count": null,
      "metadata": {
        "colab": {
          "base_uri": "https://localhost:8080/"
        },
        "id": "UZUu2N8BhCzA",
        "outputId": "0dc2f2b1-0bb5-4f46-a061-44f536fab6e6"
      },
      "outputs": [
        {
          "output_type": "stream",
          "name": "stdout",
          "text": [
            "using cuda:0 device.\n"
          ]
        }
      ],
      "source": [
        "device = torch.device(\"cuda:0\" if torch.cuda.is_available() else \"cpu\")\n",
        "print(\"using {} device.\".format(device))"
      ]
    },
    {
      "cell_type": "code",
      "source": [
        "from sklearn.model_selection import train_test_split\n",
        "\n",
        "data_dir = '/content/dataset'\n",
        "classes = os.listdir(data_dir)\n",
        "classes.sort()\n",
        "print(classes)"
      ],
      "metadata": {
        "colab": {
          "base_uri": "https://localhost:8080/"
        },
        "id": "foX0F-0zXuAd",
        "outputId": "92dcc695-aab8-47cb-b90a-5d42a42d21ff"
      },
      "execution_count": null,
      "outputs": [
        {
          "output_type": "stream",
          "name": "stdout",
          "text": [
            "['tai mèo', 'tuyết khô', 'đông cô']\n"
          ]
        }
      ]
    },
    {
      "cell_type": "code",
      "source": [
        "def read_data(path):\n",
        "  train_x, train_y = [],[]\n",
        "  for labels in os.listdir(path):\n",
        "    img_dir = os.path.join(path,labels)\n",
        "    for data in os.listdir(img_dir):\n",
        "      train_x.append(os.path.join(img_dir,data))\n",
        "      train_y.append(labels)\n",
        "\n",
        "  return train_x,train_y"
      ],
      "metadata": {
        "id": "Ih8LbpuHYSFI"
      },
      "execution_count": null,
      "outputs": []
    },
    {
      "cell_type": "code",
      "source": [
        "dir = '/content/dataset'\n",
        "x,y = read_data(dir)"
      ],
      "metadata": {
        "id": "uFKEWLYfZrFz"
      },
      "execution_count": null,
      "outputs": []
    },
    {
      "cell_type": "code",
      "source": [
        "train_x,test_x, train_y,test_y = train_test_split(x,y, test_size=0.1, random_state=42)"
      ],
      "metadata": {
        "id": "4nkiZuyqX3rf"
      },
      "execution_count": null,
      "outputs": []
    },
    {
      "cell_type": "code",
      "source": [
        "labels = {\n",
        "    'đông cô':0,\n",
        "    'tai mèo': 1,\n",
        "    'tuyết khô': 2\n",
        "}"
      ],
      "metadata": {
        "id": "OSOXMnjVcGnj"
      },
      "execution_count": null,
      "outputs": []
    },
    {
      "cell_type": "code",
      "source": [
        "train_y = [labels[label] for label in train_y]\n",
        "test_y = [labels[label] for label in test_y]"
      ],
      "metadata": {
        "id": "l0cMnzKacawt"
      },
      "execution_count": null,
      "outputs": []
    },
    {
      "cell_type": "code",
      "source": [
        "from collections import Counter\n",
        "label_counts = Counter(train_y)"
      ],
      "metadata": {
        "id": "oXmVbbA-rmjg"
      },
      "execution_count": null,
      "outputs": []
    },
    {
      "cell_type": "code",
      "source": [
        "label_counts"
      ],
      "metadata": {
        "colab": {
          "base_uri": "https://localhost:8080/"
        },
        "id": "_JJ-13lLrqwS",
        "outputId": "7ea7c3a9-b23a-4245-c3fd-e8e8e9d3a886"
      },
      "execution_count": null,
      "outputs": [
        {
          "output_type": "execute_result",
          "data": {
            "text/plain": [
              "Counter({0: 281, 1: 282, 2: 287})"
            ]
          },
          "metadata": {},
          "execution_count": 17
        }
      ]
    },
    {
      "cell_type": "markdown",
      "source": [
        "##Build class dataset"
      ],
      "metadata": {
        "id": "ox2BmU7wlaBt"
      }
    },
    {
      "cell_type": "code",
      "execution_count": null,
      "metadata": {
        "id": "WrzeBv4okUad"
      },
      "outputs": [],
      "source": [
        "from torchvision import transforms\n",
        "from torchvision.transforms import InterpolationMode\n",
        "\n",
        "data_transform = transforms.Compose([\n",
        "    transforms.Resize((96, 96), interpolation=InterpolationMode.BICUBIC),  # Resize nhẹ để giữ chi tiết\n",
        "    transforms.RandomResizedCrop(96, scale=(0.85, 1.0), ratio=(0.9, 1.1)),  # Giảm bias từ background\n",
        "    transforms.RandomHorizontalFlip(p=0.5),                                 # Flip trái/phải\n",
        "    transforms.RandomRotation(degrees=30),                                  # Xoay nhẹ để tăng biến thể\n",
        "    transforms.ColorJitter(                                                 # Làm đa dạng màu sắc và độ sáng\n",
        "        brightness=0.3,\n",
        "        contrast=0.1,\n",
        "        saturation=0.2,\n",
        "        hue=0.04\n",
        "    ),\n",
        "    transforms.RandomPerspective(distortion_scale=0.2, p=0.3),              # Biến hình nhẹ mô phỏng góc chụp\n",
        "    transforms.ToTensor(),\n",
        "    transforms.Normalize(mean=[0.5, 0.5, 0.5],\n",
        "                         std=[0.5, 0.5, 0.5])\n",
        "])\n"
      ]
    },
    {
      "cell_type": "code",
      "source": [
        "class OAI_dataset(Dataset):\n",
        "    def __init__(self, img_paths, labels, transform=None):\n",
        "        self.img_paths = img_paths\n",
        "        self.labels = labels\n",
        "        self.transform = transform\n",
        "\n",
        "    def __len__(self):\n",
        "        return len(self.img_paths)\n",
        "\n",
        "    def __getitem__(self, idx):\n",
        "        img_path = self.img_paths[idx]\n",
        "        label = self.labels[idx]\n",
        "        image = Image.open(img_path).convert('RGB')\n",
        "\n",
        "        if self.transform:\n",
        "            image = self.transform(image)\n",
        "\n",
        "        label = torch.tensor(label, dtype=torch.long) # Change dtype to torch.long\n",
        "        return image, label"
      ],
      "metadata": {
        "id": "QyuwkJdec1mj"
      },
      "execution_count": null,
      "outputs": []
    },
    {
      "cell_type": "markdown",
      "source": [
        "Load data kết quả btc lên ( load tập test)"
      ],
      "metadata": {
        "id": "NuuVqadGlczu"
      }
    },
    {
      "cell_type": "code",
      "source": [
        "import os\n",
        "\n",
        "def read_test_data(new_path):\n",
        "  final = []\n",
        "  for data in os.listdir(new_path):\n",
        "    # Check if it's a directory and if it's the one we want to exclude\n",
        "    if os.path.isdir(os.path.join(new_path, data)) and data == '.ipynb_checkpoints':\n",
        "      continue  # Skip this directory\n",
        "\n",
        "    list_img = os.path.join(new_path, data)\n",
        "    final.append(list_img)\n",
        "  return final\n",
        "\n"
      ],
      "metadata": {
        "id": "J5OgiMo2ui7y"
      },
      "execution_count": null,
      "outputs": []
    },
    {
      "cell_type": "code",
      "source": [
        "final_result = read_test_data('/content/final_test1/oai_data/test')"
      ],
      "metadata": {
        "id": "pGuGQbYCvGlx"
      },
      "execution_count": null,
      "outputs": []
    },
    {
      "cell_type": "code",
      "execution_count": null,
      "metadata": {
        "id": "CuHS5HNalEMh"
      },
      "outputs": [],
      "source": [
        "train_dataset = OAI_dataset(train_x, train_y, transform=data_transform)\n",
        "test_dataset = OAI_dataset(test_x, test_y, transform=data_transform)"
      ]
    },
    {
      "cell_type": "code",
      "source": [
        "# Tạo DataLoader với num_workers\n",
        "train_loader = DataLoader(train_dataset, batch_size=16, shuffle=True,num_workers=8)\n",
        "test_loader = DataLoader(test_dataset, batch_size=16, shuffle=False,num_workers=8)"
      ],
      "metadata": {
        "id": "wL4fhrc4fqVi",
        "colab": {
          "base_uri": "https://localhost:8080/"
        },
        "outputId": "3e448b61-86c3-4cb1-d00f-ca1dbf2cb69c"
      },
      "execution_count": null,
      "outputs": [
        {
          "output_type": "stream",
          "name": "stderr",
          "text": [
            "/usr/local/lib/python3.11/dist-packages/torch/utils/data/dataloader.py:624: UserWarning: This DataLoader will create 8 worker processes in total. Our suggested max number of worker in current system is 2, which is smaller than what this DataLoader is going to create. Please be aware that excessive worker creation might get DataLoader running slow or even freeze, lower the worker number to avoid potential slowness/freeze if necessary.\n",
            "  warnings.warn(\n"
          ]
        }
      ]
    },
    {
      "cell_type": "markdown",
      "source": [
        "##Model"
      ],
      "metadata": {
        "id": "5GLhvUCzzrmb"
      }
    },
    {
      "cell_type": "code",
      "source": [
        "from torchvision.models import efficientnet_v2_l, EfficientNet_V2_L_Weights\n",
        "import torch.nn as nn\n",
        "\n",
        "# 1. Load pretrained model\n",
        "model = efficientnet_v2_l(weights=EfficientNet_V2_L_Weights)\n",
        "\n",
        "# # 2. Freeze tất cả layer trước\n",
        "# for param in model.parameters():\n",
        "#     param.requires_grad = False\n",
        "\n",
        "\n"
      ],
      "metadata": {
        "id": "aoPRHjegjE_B",
        "colab": {
          "base_uri": "https://localhost:8080/"
        },
        "outputId": "3dc9eaeb-057b-4b43-f47a-d7f33b6ff255"
      },
      "execution_count": null,
      "outputs": [
        {
          "output_type": "stream",
          "name": "stderr",
          "text": [
            "/usr/local/lib/python3.11/dist-packages/torchvision/models/_utils.py:223: UserWarning: Arguments other than a weight enum or `None` for 'weights' are deprecated since 0.13 and may be removed in the future. The current behavior is equivalent to passing `weights=EfficientNet_V2_L_Weights.IMAGENET1K_V1`. You can also use `weights=EfficientNet_V2_L_Weights.DEFAULT` to get the most up-to-date weights.\n",
            "  warnings.warn(msg)\n",
            "Downloading: \"https://download.pytorch.org/models/efficientnet_v2_l-59c71312.pth\" to /root/.cache/torch/hub/checkpoints/efficientnet_v2_l-59c71312.pth\n",
            "100%|██████████| 455M/455M [00:03<00:00, 148MB/s]\n"
          ]
        }
      ]
    },
    {
      "cell_type": "code",
      "source": [
        "from torchvision.models import convnext_large,ConvNeXt_Large_Weights\n",
        "import torch.nn as nn\n",
        "\n",
        "# 1. Load pretrained model\n",
        "model2 = convnext_large(weights=ConvNeXt_Large_Weights)\n",
        "\n",
        "# # 2. Freeze tất cả layer trước\n",
        "# for param in model2.parameters():\n",
        "#     param.requires_grad = False\n",
        "\n",
        "\n"
      ],
      "metadata": {
        "colab": {
          "base_uri": "https://localhost:8080/"
        },
        "id": "m68Kz1VXRqBN",
        "outputId": "83a4a620-c9a7-424b-a64d-abbf5214bcde"
      },
      "execution_count": null,
      "outputs": [
        {
          "output_type": "stream",
          "name": "stderr",
          "text": [
            "/usr/local/lib/python3.11/dist-packages/torchvision/models/_utils.py:223: UserWarning: Arguments other than a weight enum or `None` for 'weights' are deprecated since 0.13 and may be removed in the future. The current behavior is equivalent to passing `weights=ConvNeXt_Large_Weights.IMAGENET1K_V1`. You can also use `weights=ConvNeXt_Large_Weights.DEFAULT` to get the most up-to-date weights.\n",
            "  warnings.warn(msg)\n",
            "Downloading: \"https://download.pytorch.org/models/convnext_large-ea097f82.pth\" to /root/.cache/torch/hub/checkpoints/convnext_large-ea097f82.pth\n",
            "100%|██████████| 755M/755M [00:08<00:00, 90.5MB/s]\n"
          ]
        }
      ]
    },
    {
      "cell_type": "code",
      "source": [
        "!git clone https://github.com/Semillero-Lun-Universidad-de-Ibague/EfficientNetB1Kan-.git"
      ],
      "metadata": {
        "colab": {
          "base_uri": "https://localhost:8080/"
        },
        "id": "mXZsMi9J_-5X",
        "outputId": "1fd15720-5504-4d26-bf38-51b090af04f3"
      },
      "execution_count": null,
      "outputs": [
        {
          "output_type": "stream",
          "name": "stdout",
          "text": [
            "Cloning into 'EfficientNetB1Kan-'...\n",
            "remote: Enumerating objects: 329, done.\u001b[K\n",
            "remote: Counting objects: 100% (329/329), done.\u001b[K\n",
            "remote: Compressing objects: 100% (206/206), done.\u001b[K\n",
            "remote: Total 329 (delta 170), reused 276 (delta 117), pack-reused 0 (from 0)\u001b[K\n",
            "Receiving objects: 100% (329/329), 3.86 MiB | 25.65 MiB/s, done.\n",
            "Resolving deltas: 100% (170/170), done.\n"
          ]
        }
      ]
    },
    {
      "cell_type": "code",
      "source": [
        "%cd /content/EfficientNetB1Kan-"
      ],
      "metadata": {
        "colab": {
          "base_uri": "https://localhost:8080/"
        },
        "id": "UyyzVXX2E6aC",
        "outputId": "72a08cd7-5f6b-439c-ba12-27c316801ee8"
      },
      "execution_count": null,
      "outputs": [
        {
          "output_type": "stream",
          "name": "stdout",
          "text": [
            "/content/EfficientNetB1Kan-\n"
          ]
        }
      ]
    },
    {
      "cell_type": "code",
      "source": [
        "from kcn import KANLinear"
      ],
      "metadata": {
        "id": "M6ycvkNu-5uq"
      },
      "execution_count": null,
      "outputs": []
    },
    {
      "cell_type": "code",
      "source": [
        "import torch\n",
        "import torch.nn as nn\n",
        "from kcn import KANLinear  # pip install kcn\n",
        "\n",
        "\n",
        "# Define ensemble model\n",
        "class EnsembleModel(nn.Module):\n",
        "    def __init__(self, model1, model2, num_classes):\n",
        "        super().__init__()\n",
        "        self.model1 = model1.features\n",
        "        self.model2 = model2.features\n",
        "\n",
        "        self.pool = nn.AdaptiveAvgPool2d((1, 1))\n",
        "        self.flatten_dim = 1280 + 1536  # EfficientNetV2-L + ConvNeXt-Large\n",
        "\n",
        "        # Replace MLP with KAN layers\n",
        "        self.kan_layers = nn.Sequential(\n",
        "            KANLinear(self.flatten_dim, 512),\n",
        "            KANLinear(512, num_classes)\n",
        "        )\n",
        "\n",
        "    def forward(self, x):\n",
        "        f1 = self.model1(x)\n",
        "          f1 = self.pool(f1)\n",
        "          f1 = torch.flatten(f1, 1)\n",
        "\n",
        "        f2 = self.model2(x)\n",
        "        f2 = self.pool(f2)\n",
        "        f2 = torch.flatten(f2, 1)\n",
        "\n",
        "        concat = torch.cat([f1, f2], dim=1)\n",
        "        out = self.kan_layers(concat)\n",
        "\n",
        "        return out\n",
        "\n",
        "\n"
      ],
      "metadata": {
        "id": "KtW3aiBGjNE1"
      },
      "execution_count": null,
      "outputs": []
    },
    {
      "cell_type": "code",
      "source": [
        "combine_model = EnsembleModel( model, model2,num_classes=4).to(device)\n",
        "#"
      ],
      "metadata": {
        "id": "2w5jIMpxj8DS"
      },
      "execution_count": null,
      "outputs": []
    },
    {
      "cell_type": "markdown",
      "source": [
        "##Train\n"
      ],
      "metadata": {
        "id": "FH1ltVN7zuk9"
      }
    },
    {
      "cell_type": "code",
      "source": [
        "for name, param in combine_model.named_parameters():\n",
        "    print(f\"{name}: requires_grad={param.requires_grad}\")\n"
      ],
      "metadata": {
        "id": "oRL6hb_dNS7Z"
      },
      "execution_count": null,
      "outputs": []
    },
    {
      "cell_type": "code",
      "source": [
        "import torch.optim as optim\n",
        "\n",
        "optimizer = torch.optim.AdamW(\n",
        "    filter(lambda p: p.requires_grad, combine_model.parameters()),\n",
        "    lr=0.0001,\n",
        "    weight_decay=1e-5  # hoặc 5e-5 nếu muốn nhẹ hơn\n",
        ")\n",
        "criterion = nn.CrossEntropyLoss()\n",
        "reduce_lr_scheduler = torch.optim.lr_scheduler.ReduceLROnPlateau(\n",
        "    optimizer,\n",
        "    mode='min',               # vì monitor='val_loss'\n",
        "    factor=0.5,\n",
        "    patience=3,\n",
        "\n",
        ")\n",
        "\n",
        "\n"
      ],
      "metadata": {
        "id": "QpKZIJ4ijp82"
      },
      "execution_count": null,
      "outputs": []
    },
    {
      "cell_type": "code",
      "execution_count": null,
      "metadata": {
        "id": "IZ7ysRZRmUrT"
      },
      "outputs": [],
      "source": [
        "import torch\n",
        "from sklearn.metrics import precision_score, recall_score, f1_score\n",
        "from tqdm import tqdm\n",
        "\n",
        "def train_model(model, train_loader, val_loader, criterion, optimizer, scheduler,\n",
        "                num_epochs=100):  # Mặc định num_epochs là 100\n",
        "    train_losses, val_losses = [], []\n",
        "    train_accuracies, val_accuracies = [], []\n",
        "    val_f1s, val_precisions, val_recalls = [], [], []\n",
        "\n",
        "    for epoch in tqdm(range(num_epochs)):\n",
        "        model.train()\n",
        "        running_loss = 0.0\n",
        "        correct = 0\n",
        "        total = 0\n",
        "\n",
        "        for inputs, labels in train_loader:\n",
        "            inputs, labels = inputs.to(device), labels.to(device)\n",
        "            optimizer.zero_grad()\n",
        "            outputs = model(inputs)\n",
        "            loss = criterion(outputs, labels)\n",
        "            loss.backward()\n",
        "            optimizer.step()\n",
        "\n",
        "            running_loss += loss.item()\n",
        "            _, predicted = torch.max(outputs.data, 1)\n",
        "            total += labels.size(0)\n",
        "            correct += (predicted == labels).sum().item()\n",
        "\n",
        "        train_loss = running_loss / len(train_loader)\n",
        "        train_accuracy = correct / total\n",
        "        train_losses.append(train_loss)\n",
        "        train_accuracies.append(train_accuracy)\n",
        "\n",
        "        # Validation\n",
        "        model.eval()\n",
        "        val_running_loss = 0.0\n",
        "        val_correct = 0\n",
        "        val_total = 0\n",
        "        all_preds, all_labels = [], []\n",
        "\n",
        "        with torch.no_grad():\n",
        "            for inputs, labels in val_loader:\n",
        "                inputs, labels = inputs.to(device), labels.to(device)\n",
        "                outputs = model(inputs)\n",
        "                loss = criterion(outputs, labels)\n",
        "\n",
        "                val_running_loss += loss.item()\n",
        "                _, predicted = torch.max(outputs.data, 1)\n",
        "                val_total += labels.size(0)\n",
        "                val_correct += (predicted == labels).sum().item()\n",
        "\n",
        "                all_preds.extend(predicted.cpu().numpy())\n",
        "                all_labels.extend(labels.cpu().numpy())\n",
        "\n",
        "        val_loss = val_running_loss / len(val_loader)\n",
        "        val_accuracy = val_correct / val_total\n",
        "        val_losses.append(val_loss)\n",
        "        val_accuracies.append(val_accuracy)\n",
        "\n",
        "        val_precision = precision_score(all_labels, all_preds, average='macro', zero_division=0)\n",
        "        val_recall = recall_score(all_labels, all_preds, average='macro', zero_division=0)\n",
        "        val_f1 = f1_score(all_labels, all_preds, average='macro', zero_division=0)\n",
        "        val_precisions.append(val_precision)\n",
        "        val_recalls.append(val_recall)\n",
        "        val_f1s.append(val_f1)\n",
        "\n",
        "        scheduler.step(val_loss)\n",
        "\n",
        "        print(f'Epoch {epoch + 1}/{num_epochs} - '\n",
        "              f'Train Loss: {train_loss:.4f}, Train Acc: {100 * train_accuracy:.2f}% - '\n",
        "              f'Val Loss: {val_loss:.4f}, Val Acc: {100 * val_accuracy:.2f}% - '\n",
        "              f'F1: {val_f1:.4f}, Precision: {val_precision:.4f}, Recall: {val_recall:.4f}')\n",
        "\n",
        "        # Save model at every 20 epochs\n",
        "        if (epoch + 1) % 20 == 0:\n",
        "            filename = f'/content/kanModel_epoch{epoch + 1}.pth'\n",
        "            torch.save(model.state_dict(), filename)\n",
        "            print(f\"💾 Model saved at epoch {epoch + 1} -> {filename}\")\n",
        "\n",
        "    return train_losses, val_losses, train_accuracies, val_accuracies, val_f1s, val_precisions, val_recalls\n"
      ]
    },
    {
      "cell_type": "code",
      "source": [
        "train_losses, val_losses, train_accuracies, val_accuracies, val_f1s, val_precisions, val_recalls = train_model(\n",
        "    model=combine_model,\n",
        "    train_loader=train_loader,\n",
        "    val_loader=test_loader,\n",
        "    criterion=criterion,\n",
        "    optimizer=optimizer,\n",
        "    scheduler=reduce_lr_scheduler,\n",
        "    num_epochs=100\n",
        ")"
      ],
      "metadata": {
        "id": "pDkU_DTplfeb"
      },
      "execution_count": null,
      "outputs": []
    },
    {
      "cell_type": "code",
      "execution_count": null,
      "metadata": {
        "id": "rSnuDzb5mhnw"
      },
      "outputs": [],
      "source": [
        "import matplotlib.pyplot as plt\n",
        "def plot_metrics(train_losses, val_losses, train_accuracies, val_accuracies):\n",
        "    epochs = range(1, len(train_losses) + 1)\n",
        "\n",
        "    plt.figure(figsize=(12, 5))\n",
        "\n",
        "    # Loss Plot\n",
        "    plt.subplot(1, 2, 1)\n",
        "    plt.plot(epochs, train_losses, 'b', label='Training loss')\n",
        "    plt.plot(epochs, val_losses, 'r', label='Validation loss')\n",
        "    plt.title('Training and Validation Loss')\n",
        "    plt.xlabel('Epochs')\n",
        "    plt.ylabel('Loss')\n",
        "    plt.legend()\n",
        "\n",
        "    # Accuracy Plot\n",
        "    plt.subplot(1, 2, 2)\n",
        "    plt.plot(epochs, train_accuracies, 'b', label='Training accuracy')\n",
        "    plt.plot(epochs, val_accuracies, 'r', label='Validation accuracy')\n",
        "    plt.title('Training and Validation Accuracy')\n",
        "    plt.xlabel('Epochs')\n",
        "    plt.ylabel('Accuracy')\n",
        "    plt.legend()\n",
        "\n",
        "    plt.tight_layout()\n",
        "    plt.show()\n",
        "\n",
        "plot_metrics(train_losses, val_losses, train_accuracies, val_accuracies)"
      ]
    },
    {
      "cell_type": "markdown",
      "source": [
        "## Load lại model để test"
      ],
      "metadata": {
        "id": "qPC50gqSlvBk"
      }
    },
    {
      "cell_type": "code",
      "source": [
        "import torch\n",
        "import torch.nn as nn\n",
        "from kcn import KANLinear  # pip install kcn\n",
        "\n",
        "\n",
        "# Define ensemble model\n",
        "class EnsembleModel(nn.Module):\n",
        "    def __init__(self, model1, model2, num_classes):\n",
        "        super().__init__()\n",
        "        self.model1 = model1.features\n",
        "        self.model2 = model2.features\n",
        "\n",
        "        self.pool = nn.AdaptiveAvgPool2d((1, 1))\n",
        "        self.flatten_dim = 1280 + 1536  # EfficientNetV2-L + ConvNeXt-Large\n",
        "\n",
        "        # Replace MLP with KAN layers\n",
        "        self.kan_layers = nn.Sequential(\n",
        "            KANLinear(self.flatten_dim, 512),\n",
        "            KANLinear(512, num_classes)\n",
        "        )\n",
        "\n",
        "    def forward(self, x):\n",
        "        f1 = self.model1(x)\n",
        "        f1 = self.pool(f1)\n",
        "        f1 = torch.flatten(f1, 1)\n",
        "\n",
        "        f2 = self.model2(x)\n",
        "        f2 = self.pool(f2)\n",
        "        f2 = torch.flatten(f2, 1)\n",
        "\n",
        "        concat = torch.cat([f1, f2], dim=1)\n",
        "        out = self.kan_layers(concat)\n",
        "\n",
        "        return out\n",
        "\n",
        "\n"
      ],
      "metadata": {
        "id": "KOvXo_e-wNSD"
      },
      "execution_count": null,
      "outputs": []
    },
    {
      "cell_type": "code",
      "source": [
        "combine_model = EnsembleModel(model,model2, num_classes=4).to(device)\n",
        "#"
      ],
      "metadata": {
        "id": "E5cg-xG47xR7"
      },
      "execution_count": null,
      "outputs": []
    },
    {
      "cell_type": "code",
      "source": [
        "# In ipython-input-55-9738d0f7fd7a\n",
        "state_dict = torch.load('/content/drive/MyDrive/model_OAI/final_model.pth')\n",
        "# Load the state dictionary without assigning the result back to ve_model\n",
        "combine_model.load_state_dict(state_dict)"
      ],
      "metadata": {
        "colab": {
          "base_uri": "https://localhost:8080/"
        },
        "id": "OEt6KXUA8bEF",
        "outputId": "b8acf5bc-a5c4-4f04-875e-7ef691970d4f"
      },
      "execution_count": null,
      "outputs": [
        {
          "output_type": "execute_result",
          "data": {
            "text/plain": [
              "<All keys matched successfully>"
            ]
          },
          "metadata": {},
          "execution_count": 61
        }
      ]
    },
    {
      "cell_type": "code",
      "source": [
        "from torchvision import transforms\n",
        "from torchvision.transforms import InterpolationMode\n",
        "\n",
        "data_transform1 = transforms.Compose([\n",
        "    transforms.Resize((96, 96), interpolation=InterpolationMode.BICUBIC),  # Resize nhẹ để giữ chi tiết\n",
        "    transforms.ToTensor(),\n",
        "    transforms.Normalize(mean=[0.5, 0.5, 0.5],\n",
        "                         std=[0.5, 0.5, 0.5])\n",
        "])\n"
      ],
      "metadata": {
        "id": "KUlzv783vF7c"
      },
      "execution_count": null,
      "outputs": []
    },
    {
      "cell_type": "markdown",
      "source": [
        "## Test"
      ],
      "metadata": {
        "id": "hSVxjXall09_"
      }
    },
    {
      "cell_type": "code",
      "source": [
        "combine_model.eval()\n",
        "correct = 0\n",
        "total = 0\n",
        "y_predict=[]\n",
        "\n",
        "with torch.no_grad():\n",
        "    for images in final_result:\n",
        "        # Move images and labels to the same device as the device\n",
        "            # Check if it's a directory before listing its contents\n",
        "        image = Image.open(images).convert('RGB')\n",
        "        image_path = data_transform(image).unsqueeze(0).to(device)\n",
        "        outputs = combine_model(image_path)\n",
        "        _, predicted = torch.max(outputs.data, 1)\n",
        "        img_id = images.split('/')[-1].split('.')[0]\n",
        "        y_predict.append([img_id,predicted.item()])\n"
      ],
      "metadata": {
        "id": "fhvI2MgzYdu9"
      },
      "execution_count": null,
      "outputs": []
    },
    {
      "cell_type": "code",
      "source": [
        "y_predict"
      ],
      "metadata": {
        "colab": {
          "base_uri": "https://localhost:8080/"
        },
        "id": "VJU5cGITyYpT",
        "outputId": "d0a6049a-013b-4f7a-a4e5-d0850cc0b86e"
      },
      "execution_count": null,
      "outputs": [
        {
          "output_type": "execute_result",
          "data": {
            "text/plain": [
              "[['1745420429107_2e92b8aa', 0],\n",
              " ['1745420429187_0f1d75e6', 2],\n",
              " ['1745420431357_bb95c021', 2],\n",
              " ['1745420431606_402154ec', 2],\n",
              " ['1745420430519_c6c365cc', 1],\n",
              " ['1745420430037_69e824d0', 1],\n",
              " ['1745420431086_f144cba9', 1],\n",
              " ['1745420430597_4be239c0', 0],\n",
              " ['1745420434343_18f3bce5', 0],\n",
              " ['1745420433940_a8f825c2', 1],\n",
              " ['1745420429817_3a8f51e3', 0],\n",
              " ['1745420434910_e4e9f52b', 2],\n",
              " ['1745420432921_a602a6b1', 0],\n",
              " ['1745420428883_b32827f9', 1],\n",
              " ['1745420434619_b6806896', 1],\n",
              " ['1745420435265_78b7d746', 2],\n",
              " ['1745420433860_dc2a4e8f', 2],\n",
              " ['1745420432874_0b1f794b', 0],\n",
              " ['1745420429011_4dd1bf70', 1],\n",
              " ['1745420434527_3d72cbe3', 2],\n",
              " ['1745420432544_d0df4159', 2],\n",
              " ['1745420432984_8266e2d0', 1],\n",
              " ['1745420435568_72999e6c', 1],\n",
              " ['1745420431591_d9e54ba4', 2],\n",
              " ['1745420429659_2c64511b', 2],\n",
              " ['1745420430828_0473f139', 0],\n",
              " ['1745420430407_e6ce34e5', 1],\n",
              " ['1745420435375_5d6a4da1', 0],\n",
              " ['1745420435328_4885b61a', 2],\n",
              " ['1745420431734_914b28b2', 2],\n",
              " ['1745420431782_24ddff13', 1],\n",
              " ['1745420431326_ababa68b', 0],\n",
              " ['1745420429690_e3c5c94e', 0],\n",
              " ['1745420428995_b65922fd', 0],\n",
              " ['1745420433190_f2b1815e', 1],\n",
              " ['1745420431294_df122f81', 0],\n",
              " ['1745420431798_93efb32a', 0],\n",
              " ['1745420432098_e23c8b4d', 0],\n",
              " ['1745420431622_625403b5', 1],\n",
              " ['1745420432052_154fa279', 1],\n",
              " ['1745420429928_3bfa3303', 2],\n",
              " ['1745420433095_056395eb', 0],\n",
              " ['1745420432258_79742f1a', 1],\n",
              " ['1745420429553_ace9bdc1', 2],\n",
              " ['1745420432574_5388adb3', 2],\n",
              " ['1745420430503_c3b3bcb2', 1],\n",
              " ['1745420431342_a88780ff', 1],\n",
              " ['1745420434986_4dc6b204', 2],\n",
              " ['1745420432747_ed1484fd', 1],\n",
              " ['1745420428899_4d2f9367', 2],\n",
              " ['1745420435704_c0e0aa62', 0],\n",
              " ['1745420432810_2298a870', 0],\n",
              " ['1745420431862_683e6b4e', 0],\n",
              " ['1745420431654_17614f8b', 2],\n",
              " ['1745420435831_2c10c0b7', 1],\n",
              " ['1745420433732_5ea08d8a', 2],\n",
              " ['1745420433478_5d429582', 1],\n",
              " ['1745420430113_7b53e140', 2],\n",
              " ['1745420433844_e18fbafc', 1],\n",
              " ['1745420434726_f2288e6a', 2],\n",
              " ['1745420433110_0e02bb3c', 0],\n",
              " ['1745420433908_16b271c2', 0],\n",
              " ['1745420429613_c3fe9efa', 0],\n",
              " ['1745420432114_89907110', 1],\n",
              " ['1745420433748_38239236', 1],\n",
              " ['1745420434680_2f38006f', 0],\n",
              " ['1745420432826_9c31d7c9', 2],\n",
              " ['1745420434019_2b6bdae3', 0],\n",
              " ['1745420432449_4d712123', 0],\n",
              " ['1745420435407_0613cb7b', 1],\n",
              " ['1745420434404_7b4e893e', 2],\n",
              " ['1745420429425_ecba5844', 0],\n",
              " ['1745420430266_5587c68b', 0],\n",
              " ['1745420430127_9efdecc4', 0],\n",
              " ['1745420430082_9090ada9', 2],\n",
              " ['1745420433685_f986ac68', 1],\n",
              " ['1745420434496_14431a5a', 1],\n",
              " ['1745420429329_7ab21fd9', 2],\n",
              " ['1745420430173_f9076dde', 1],\n",
              " ['1745420430979_cb81d50e', 1],\n",
              " ['1745420434435_21e52741', 0],\n",
              " ['1745420431544_12fe979e', 0],\n",
              " ['1745420433877_2700f8f6', 1],\n",
              " ['1745420432226_dfb20805', 1],\n",
              " ['1745420434235_14ec0cae', 1],\n",
              " ['1745420432559_26b66fcb', 2],\n",
              " ['1745420430455_c338ce11', 1],\n",
              " ['1745420431988_5f019a5f', 0],\n",
              " ['1745420432637_c5a1c01b', 1],\n",
              " ['1745420430720_bf4ed4d0', 1],\n",
              " ['1745420434574_bc4e8536', 0],\n",
              " ['1745420432274_12cef5df', 2],\n",
              " ['1745420435203_bc634553', 1],\n",
              " ['1745420435455_a5f62691', 2],\n",
              " ['1745420430964_31ec2913', 0],\n",
              " ['1745420431830_65997b69', 0],\n",
              " ['1745420435784_a9704659', 1],\n",
              " ['1745420431134_b4fec4de', 0],\n",
              " ['1745420435094_cdaf49f4', 1],\n",
              " ['1745420431010_90a56e9f', 1],\n",
              " ['1745420428868_0ed5a51e', 0],\n",
              " ['1745420435155_91a827f9', 1],\n",
              " ['1745420430994_cc95a5e1', 2],\n",
              " ['1745420430205_7dcbe074', 2],\n",
              " ['1745420435613_23fe97e6', 0],\n",
              " ['1745420435582_28b9626a', 0],\n",
              " ['1745420430919_bd8c47d6', 0],\n",
              " ['1745420434389_59c2e3bc', 2],\n",
              " ['1745420430645_428b378c', 0],\n",
              " ['1745420429885_5f35083e', 0],\n",
              " ['1745420432306_51cadb3c', 1],\n",
              " ['1745420430066_e76d2f9f', 2],\n",
              " ['1745420430313_fdd767d5', 0],\n",
              " ['1745420433606_da73bf16', 2],\n",
              " ['1745420435720_eb6971f1', 0],\n",
              " ['1745420432667_a79d8cd6', 1],\n",
              " ['1745420433510_ac2c40f7', 0],\n",
              " ['1745420433222_4a5a173f', 1],\n",
              " ['1745420435440_6a16c813', 2],\n",
              " ['1745420434757_09031b4e', 2],\n",
              " ['1745420434864_5fe2696d', 0],\n",
              " ['1745420431150_f1d75c39', 0],\n",
              " ['1745420431576_eac9ffaf', 1],\n",
              " ['1745420435644_88f73e1e', 2],\n",
              " ['1745420434511_97620ebc', 1],\n",
              " ['1745420429027_9c33c87a', 2],\n",
              " ['1745420434281_17913a68', 0],\n",
              " ['1745420431814_f14239c7', 0],\n",
              " ['1745420433622_d9a3935d', 0],\n",
              " ['1745420434542_a79f7a12', 2],\n",
              " ['1745420430796_c38bacf8', 0],\n",
              " ['1745420432968_f8394b38', 0],\n",
              " ['1745420431055_7c58ad99', 1],\n",
              " ['1745420430328_3ef9ec4d', 2],\n",
              " ['1745420432146_61d189f0', 1],\n",
              " ['1745420433812_1a944928', 1],\n",
              " ['1745420433158_56bab9f8', 2],\n",
              " ['1745420434450_901026db', 0],\n",
              " ['1745420430097_1e407a44', 2],\n",
              " ['1745420431670_23332b82', 1],\n",
              " ['1745420435233_afee38aa', 1],\n",
              " ['1745420435124_face42eb', 2],\n",
              " ['1745420431766_1ecf15a8', 0],\n",
              " ['1745420431402_086e5c97', 1],\n",
              " ['1745420435925_028f45b5', 0],\n",
              " ['1745420432842_eee706ff', 0],\n",
              " ['1745420432891_fa87c8d4', 1],\n",
              " ['1745420429378_49277876', 2],\n",
              " ['1745420434327_fec5373b', 0],\n",
              " ['1745420430674_d6b41ba6', 2],\n",
              " ['1745420433174_fc695201', 2],\n",
              " ['1745420431418_e2c0d9eb', 0],\n",
              " ['1745420433126_ed1d7190', 0],\n",
              " ['1745420433780_ef476e75', 0],\n",
              " ['1745420431878_d7ad5a6a', 2],\n",
              " ['1745420430843_c7021a3b', 2],\n",
              " ['1745420432130_9f353487', 1],\n",
              " ['1745420429801_2ca800ea', 2],\n",
              " ['1745420429972_c393451b', 0],\n",
              " ['1745420435878_b8ee2802', 1],\n",
              " ['1745420431750_f12a0bed', 1],\n",
              " ['1745420429989_74e94742', 1],\n",
              " ['1745420435940_e6aba007', 1],\n",
              " ['1745420430487_1599d4a3', 1],\n",
              " ['1745420433652_c22dc577', 1],\n",
              " ['1745420433142_d74ebbb0', 0],\n",
              " ['1745420429409_70d1f12b', 2],\n",
              " ['1745420434695_62edaec5', 1],\n",
              " ['1745420434818_700892dd', 1],\n",
              " ['1745420435503_5cda786c', 1],\n",
              " ['1745420430004_4c009b6f', 1],\n",
              " ['1745420431310_30ced1d4', 2],\n",
              " ['1745420428805_9a5fd5ef', 0],\n",
              " ['1745420431387_6e02f34f', 0],\n",
              " ['1745420433399_03f03daa', 0],\n",
              " ['1745420430297_3ffa0cec', 1],\n",
              " ['1745420433462_42539604', 2],\n",
              " ['1745420435800_2b8113e9', 1],\n",
              " ['1745420435391_b7f58abc', 0],\n",
              " ['1745420430143_de8ab27c', 0],\n",
              " ['1745420434312_bdd169ea', 0],\n",
              " ['1745420430189_5b2212b5', 2],\n",
              " ['1745420432858_4f6a1ef1', 0],\n",
              " ['1745420432354_9dd992b2', 1],\n",
              " ['1745420429361_2d97189f', 0],\n",
              " ['1745420434419_54910ac0', 2],\n",
              " ['1745420435172_822c9e97', 1],\n",
              " ['1745420433000_1f5e5273', 1],\n",
              " ['1745420431498_7fa84533', 2],\n",
              " ['1745420429942_bac9af90', 2],\n",
              " ['1745420428980_1d3d0a36', 1],\n",
              " ['1745420431924_eeb2b238', 1],\n",
              " ['1745420428853_f0f50264', 1],\n",
              " ['1745420430359_2abe7c86', 2],\n",
              " ['1745420428947_a920cb2a', 0],\n",
              " ['1745420432621_718fd969', 0],\n",
              " ['1745420434358_fe4d3c91', 2],\n",
              " ['1745420434974_7552aea5', 2],\n",
              " ['1745420434189_f201bd29', 2],\n",
              " ['1745420430281_8cef6792', 0],\n",
              " ['1745420435894_27077cf7', 1],\n",
              " ['1745420431482_acbe8900', 2],\n",
              " ['1745420430902_91548b4b', 0],\n",
              " ['1745420433590_d087aa18', 1],\n",
              " ['1745420432417_556815cf', 1],\n",
              " ['1745420432242_5a080270', 0],\n",
              " ['1745420433574_2c15d928', 2],\n",
              " ['1745420430705_2e13989e', 0],\n",
              " ['1745420429393_ab217272', 2],\n",
              " ['1745420433828_318af81b', 0],\n",
              " ['1745420435313_ff038e2f', 1],\n",
              " ['1745420429753_6435422a', 2],\n",
              " ['1745420433048_166b3435', 1],\n",
              " ['1745420433494_cd81e420', 0],\n",
              " ['1745420434159_5df1351b', 1],\n",
              " ['1745420429059_69997282', 2],\n",
              " ['1745420429505_ff2d419d', 2],\n",
              " ['1745420434205_f3ee72b5', 0],\n",
              " ['1745420431719_5b29c658', 1],\n",
              " ['1745420434833_60c6416e', 1],\n",
              " ['1745420429537_bc7ee032', 2],\n",
              " ['1745420435249_f3696678', 0],\n",
              " ['1745420435002_57546347', 2],\n",
              " ['1745420435846_11a0e492', 1],\n",
              " ['1745420429834_da0ce8df', 2],\n",
              " ['1745420435816_790d63d4', 1],\n",
              " ['1745420435018_22cdadbb', 2],\n",
              " ['1745420434220_aab2c157', 0],\n",
              " ['1745420429313_ef00bf1f', 1],\n",
              " ['1745420433796_cf32d691', 2],\n",
              " ['1745420430021_21c82aac', 1],\n",
              " ['1745420430873_0e39ce20', 2],\n",
              " ['1745420434879_a6d28032', 2],\n",
              " ['1745420433270_d8ab48d3', 1],\n",
              " ['1745420429473_37f5f14d', 2],\n",
              " ['1745420433382_b72f9f19', 1],\n",
              " ['1745420434004_fc932008', 1],\n",
              " ['1745420435187_f691fbe4', 2],\n",
              " ['1745420432194_f8278d21', 2],\n",
              " ['1745420430613_ce2d05bb', 1],\n",
              " ['1745420434772_8b45cdbc', 2],\n",
              " ['1745420433302_c940452c', 0],\n",
              " ['1745420433430_951d830d', 1],\n",
              " ['1745420433764_0ec17ad5', 2],\n",
              " ['1745420429521_016a804b', 0],\n",
              " ['1745420429785_5fa0a619', 2],\n",
              " ['1745420429721_2d13a1bc', 1],\n",
              " ['1745420433558_1bdb86dd', 2],\n",
              " ['1745420429913_bc8d4d18', 2],\n",
              " ['1745420428964_c48b207b', 1],\n",
              " ['1745420431372_282e96e0', 0],\n",
              " ['1745420429219_8714864f', 1],\n",
              " ['1745420431560_1f443c82', 2],\n",
              " ['1745420432778_00b64048', 2],\n",
              " ['1745420430052_9b2641a7', 2],\n",
              " ['1745420432338_e40b5512', 0],\n",
              " ['1745420429706_60d2be03', 2],\n",
              " ['1745420432952_119f70bf', 2],\n",
              " ['1745420430659_f0f46370', 1],\n",
              " ['1745420435629_dff82c8d', 0],\n",
              " ['1745420429287_b5e406f8', 0],\n",
              " ['1745420434034_2f8214cc', 0],\n",
              " ['1745420428931_b4bebe2f', 2],\n",
              " ['1745420429235_c31350b6', 1],\n",
              " ['1745420432731_07e5d671', 0],\n",
              " ['1745420435359_af8d83b0', 1],\n",
              " ['1745420435674_a9f62b4a', 1],\n",
              " ['1745420429075_850b9d7e', 2],\n",
              " ['1745420432162_faae83d1', 2],\n",
              " ['1745420433542_1f346034', 2],\n",
              " ['1745420433016_c1a67d76', 0],\n",
              " ['1745420435423_79ea1d2c', 2],\n",
              " ['1745420435536_5f1ac7f7', 2],\n",
              " ['1745420434143_6c70e925', 1],\n",
              " ['1745420431025_7edc5578', 2],\n",
              " ['1745420433254_6fc7bcf8', 2],\n",
              " ['1745420433334_3fea4112', 2],\n",
              " ['1745420434251_3115408e', 1],\n",
              " ['1745420432683_50af579c', 2],\n",
              " ['1745420432082_658ed40d', 2],\n",
              " ['1745420432020_0e9bed5a', 0],\n",
              " ['1745420433033_37fbe05c', 1],\n",
              " ['1745420430582_fcc85534', 0],\n",
              " ['1745420433972_3a2bd079', 2],\n",
              " ['1745420429584_19797f88', 2],\n",
              " ['1745420434588_b29d9f5d', 1],\n",
              " ['1745420429737_12fd27c5', 2],\n",
              " ['1745420431450_09d353cf', 0],\n",
              " ['1745420432470_4fb90598', 2],\n",
              " ['1745420429457_93d23b33', 2],\n",
              " ['1745420430251_5bc7f6cf', 0],\n",
              " ['1745420430565_7220260d', 1],\n",
              " ['1745420434174_f73974cd', 0],\n",
              " ['1745420435659_a500d336', 1],\n",
              " ['1745420434947_fb727d30', 2],\n",
              " ['1745420430534_deb95deb', 1],\n",
              " ['1745420432322_500c3a6d', 2],\n",
              " ['1745420429171_2c14720e', 2],\n",
              " ['1745420430766_3ae0c7db', 0],\n",
              " ['1745420434634_8b87301a', 1],\n",
              " ['1745420432386_5e5c6ea5', 1],\n",
              " ['1745420429629_a374a221', 1],\n",
              " ['1745420435218_99fc86c8', 1],\n",
              " ['1745420433318_e23ab538', 0],\n",
              " ['1745420433286_6ddb4a5a', 2],\n",
              " ['1745420429345_d3c225f0', 2],\n",
              " ['1745420434128_6e2cec43', 2],\n",
              " ['1745420432036_0ee8359e', 2],\n",
              " ['1745420435033_09b28f6e', 2],\n",
              " ['1745420429203_88f6a0b1', 0],\n",
              " ['1745420429598_51d3a6ce', 0],\n",
              " ['1745420431214_9c9683a0', 0],\n",
              " ['1745420435139_67f008fe', 0],\n",
              " ['1745420433716_13ab2a4d', 0],\n",
              " ['1745420433446_2941c0b5', 2],\n",
              " ['1745420432503_8bf9b4fe', 1],\n",
              " ['1745420433988_e6dddb0e', 1],\n",
              " ['1745420431278_1d7e6c38', 2],\n",
              " ['1745420434603_b3d1e2f8', 2],\n",
              " ['1745420434894_e31a0f57', 1],\n",
              " ['1745420428915_dd9809c3', 1],\n",
              " ['1745420432762_41af32a4', 0],\n",
              " ['1745420435768_666150fb', 1],\n",
              " ['1745420432794_3cf49209', 1],\n",
              " ['1745420428837_9ebdfcb4', 2],\n",
              " ['1745420431908_c6411568', 1],\n",
              " ['1745420429958_ca772ecd', 2],\n",
              " ['1745420434557_e0e9b384', 1],\n",
              " ['1745420430750_bb516d6c', 2],\n",
              " ['1745420433366_e1cbd383', 1],\n",
              " ['1745420431972_b3bcd552', 1],\n",
              " ['1745420433080_153ff2a3', 1],\n",
              " ['1745420434297_101dda58', 1],\n",
              " ['1745420429091_a0fbf511', 2],\n",
              " ['1745420434649_34ac4c4c', 2],\n",
              " ['1745420432432_aa80c39a', 0],\n",
              " ['1745420435519_0f873fd2', 0],\n",
              " ['1745420434481_0d90c65a', 1],\n",
              " ['1745420433669_9cf1e108', 0],\n",
              " ['1745420431071_4f77831c', 2],\n",
              " ['1745420433350_2c6eeaed', 1],\n",
              " ['1745420435551_34feb272', 0],\n",
              " ['1745420433064_6e15b834', 1],\n",
              " ['1745420429441_c3097bff', 1],\n",
              " ['1745420431956_bd3adadd', 0],\n",
              " ['1745420434067_b9bd9a42', 1],\n",
              " ['1745420434266_09bfb225', 0],\n",
              " ['1745420431118_661ea78f', 0],\n",
              " ['1745420435736_d80e16cc', 2],\n",
              " ['1745420435690_1a317600', 1],\n",
              " ['1745420432528_5cef4001', 0],\n",
              " ['1745420434925_1d2384e5', 0],\n",
              " ['1745420430343_2dad91ae', 1],\n",
              " ['1745420435063_c31bbe7a', 2],\n",
              " ['1745420432290_cb44c18d', 2],\n",
              " ['1745420429489_9b08aad5', 1],\n",
              " ['1745420432066_bd0d1682', 0],\n",
              " ['1745420431702_0da7d1dc', 2],\n",
              " ['1745420433924_09111a06', 1],\n",
              " ['1745420429123_27284820', 0],\n",
              " ['1745420434465_6190bc82', 0],\n",
              " ['1745420435752_2625eebe', 0],\n",
              " ['1745420432004_862f9560', 2],\n",
              " ['1745420430933_b42c4c5f', 2],\n",
              " ['1745420430376_f68f1d33', 0],\n",
              " ['1745420430629_f5a81383', 0],\n",
              " ['1745420429644_1d51f4f7', 2],\n",
              " ['1745420435471_88c864ec', 0],\n",
              " ['1745420432370_5dacb43e', 2],\n",
              " ['1745420433956_af8716a7', 1],\n",
              " ['1745420431166_df95570e', 0],\n",
              " ['1745420435048_0648fb87', 2],\n",
              " ['1745420429155_9b6d0b35', 2],\n",
              " ['1745420431638_a075ac04', 2],\n",
              " ['1745420434741_b0d416ba', 2],\n",
              " ['1745420429267_9c832f18', 0],\n",
              " ['1745420434787_fdc46f2a', 1],\n",
              " ['1745420434803_0528ef8e', 2],\n",
              " ['1745420432210_1fbea096', 1],\n",
              " ['1745420434849_4d47ea93', 0],\n",
              " ['1745420435343_ca0ea0e9', 0],\n",
              " ['1745420435109_c7e247aa', 0],\n",
              " ['1745420429850_0ec03792', 1],\n",
              " ['1745420430235_eccf9396', 1],\n",
              " ['1745420433637_99d8100c', 2],\n",
              " ['1745420431230_6feff5f6', 0],\n",
              " ['1745420432605_a57cfe9d', 2],\n",
              " ['1745420430439_edca125d', 0],\n",
              " ['1745420431182_84fbb0c1', 2],\n",
              " ['1745420431262_c4483801', 2],\n",
              " ['1745420430689_ef09eee4', 0],\n",
              " ['1745420431198_87816563', 0],\n",
              " ['1745420431040_4e529341', 0],\n",
              " ['1745420430948_6a7825a1', 1],\n",
              " ['1745420428784_f1920216', 1],\n",
              " ['1745420432178_27101a44', 2],\n",
              " ['1745420429140_7baf1d5c', 1],\n",
              " ['1745420432651_915e0986', 2],\n",
              " ['1745420435079_cb8f96c7', 1],\n",
              " ['1745420429568_38fd0b10', 1],\n",
              " ['1745420430888_ec1b44ef', 0],\n",
              " ['1745420435487_c625d4e4', 0],\n",
              " ['1745420431466_06bad1c5', 0],\n",
              " ['1745420429251_56e008e9', 1],\n",
              " ['1745420430735_512fb02d', 1],\n",
              " ['1745420434114_671250d8', 1],\n",
              " ['1745420431102_f445c7f7', 1],\n",
              " ['1745420430220_09c046a8', 0],\n",
              " ['1745420432698_8e6aa81a', 2],\n",
              " ['1745420431893_dfd796a0', 2],\n",
              " ['1745420433526_8bc8c1f4', 0],\n",
              " ['1745420429769_ccb8cc86', 1],\n",
              " ['1745420429043_f52958a8', 1],\n",
              " ['1745420429675_46114b32', 2],\n",
              " ['1745420434665_47d8ce4e', 1],\n",
              " ['1745420428822_c3c88f24', 0],\n",
              " ['1745420430549_ada5ee26', 2],\n",
              " ['1745420430157_8effcbe9', 0],\n",
              " ['1745420430391_14dd6401', 1],\n",
              " ['1745420433414_1f008de6', 0],\n",
              " ['1745420431434_93d705c2', 1],\n",
              " ['1745420435281_6887987a', 0],\n",
              " ['1745420435297_be37f3ca', 0],\n",
              " ['1745420435910_ea8295be', 1],\n",
              " ['1745420434086_4d5a3a42', 2],\n",
              " ['1745420433893_bdc8a9c8', 2],\n",
              " ['1745420433700_431b9ae8', 1],\n",
              " ['1745420432401_f78f7ffe', 2],\n",
              " ['1745420432591_ef3ceab3', 0],\n",
              " ['1745420430811_55627fa4', 1],\n",
              " ['1745420435862_c0bb85be', 2],\n",
              " ['1745420429866_40945e64', 0],\n",
              " ['1745420433207_220582b1', 2],\n",
              " ['1745420434711_b603e792', 0],\n",
              " ['1745420434373_bd7b031b', 2],\n",
              " ['1745420430423_80c8d55e', 0],\n",
              " ['1745420430471_af2f72fa', 0],\n",
              " ['1745420431246_47cd07de', 2],\n",
              " ['1745420431513_7c16b558', 2],\n",
              " ['1745420431846_500047fd', 1],\n",
              " ['1745420432907_d7d7941c', 2],\n",
              " ['1745420435597_f587bd56', 2],\n",
              " ['1745420431686_ffece233', 2],\n",
              " ['1745420431528_6ff57b42', 0],\n",
              " ['1745420430857_f01b4a4e', 1],\n",
              " ['1745420432936_b4acc27a', 2],\n",
              " ['1745420434050_0d63ea05', 0],\n",
              " ['1745420432714_426b0a8a', 0],\n",
              " ['1745420433238_18436e34', 0],\n",
              " ['1745420431940_a70326b1', 1]]"
            ]
          },
          "metadata": {},
          "execution_count": 66
        }
      ]
    },
    {
      "cell_type": "code",
      "source": [
        "import matplotlib.pyplot as plt\n",
        "from sklearn.metrics import confusion_matrix, ConfusionMatrixDisplay\n",
        "\n",
        "# Lấy danh sách nhãn thật và nhãn dự đoán\n",
        "y_true = merged_df['label_1']\n",
        "y_pred = merged_df['label_2']\n",
        "\n",
        "# Tính confusion matrix\n",
        "cm = confusion_matrix(y_true, y_pred)\n",
        "\n",
        "# Hiển thị confusion matrix\n",
        "disp = ConfusionMatrixDisplay(confusion_matrix=cm)\n",
        "disp.plot(cmap=plt.cm.Blues)\n",
        "plt.title(\"Confusion Matrix\")\n",
        "plt.show()\n"
      ],
      "metadata": {
        "colab": {
          "base_uri": "https://localhost:8080/",
          "height": 472
        },
        "id": "MIjcVaxYrd43",
        "outputId": "083c6fb1-0ccb-4995-e45b-4cc50a952df8"
      },
      "execution_count": null,
      "outputs": [
        {
          "output_type": "display_data",
          "data": {
            "text/plain": [
              "<Figure size 640x480 with 2 Axes>"
            ],
            "image/png": "[encoded data removed]"
          },
          "metadata": {}
        }
      ]
    },
    {
      "cell_type": "code",
      "source": [],
      "metadata": {
        "id": "8sBxZPw8Mtj_"
      },
      "execution_count": null,
      "outputs": []
    }
  ],
  "metadata": {
    "accelerator": "GPU",
    "colab": {
      "gpuType": "T4",
      "provenance": []
    },
    "kernelspec": {
      "display_name": "Python 3",
      "name": "python3"
    },
    "language_info": {
      "name": "python"
    }
  },
  "nbformat": 4,
  "nbformat_minor": 0
}